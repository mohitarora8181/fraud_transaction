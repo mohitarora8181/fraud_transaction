{
 "cells": [
  {
   "cell_type": "code",
   "execution_count": 8,
   "metadata": {},
   "outputs": [],
   "source": [
    "import pandas as pd\n",
    "import numpy as np\n",
    "from sklearn.preprocessing import LabelEncoder\n",
    "from sklearn.model_selection import train_test_split\n",
    "from sklearn.metrics import classification_report, roc_auc_score\n",
    "from xgboost import XGBClassifier\n",
    "\n",
    "def load_data(file_path):\n",
    "    return pd.read_csv(file_path)"
   ]
  },
  {
   "cell_type": "code",
   "execution_count": 12,
   "metadata": {},
   "outputs": [],
   "source": [
    "def preprocess_data(df):\n",
    "    df['transaction_amount'].fillna(df['transaction_amount'].median(), inplace=True)\n",
    "    df.drop(columns=['payer_mobile_anonymous'], inplace=True, errors='ignore')\n",
    "    df['transaction_date'] = pd.to_datetime(df['transaction_date'], errors='coerce')\n",
    "    df['transaction_hour'] = df['transaction_date'].dt.hour\n",
    "    df['transaction_day'] = df['transaction_date'].dt.day\n",
    "    df['transaction_month'] = df['transaction_date'].dt.month\n",
    "    df['transaction_day_of_week'] = df['transaction_date'].dt.dayofweek\n",
    "    df.drop(columns=['transaction_date'], inplace=True)\n",
    "    return df\n",
    "\n",
    "# Encode Categorical Features\n",
    "def encode_categorical(df, categorical_cols):\n",
    "    label_encoders = {}\n",
    "    for col in categorical_cols:\n",
    "        le = LabelEncoder()\n",
    "        df[col] = le.fit_transform(df[col].astype(str))\n",
    "        label_encoders[col] = le\n",
    "    return df, label_encoders\n",
    "\n",
    "# Train XGBoost Model\n",
    "def train_xgboost(X_train, y_train):\n",
    "    scale_pos_weight = len(y_train[y_train == 0]) / max(1, len(y_train[y_train == 1]))\n",
    "    model = XGBClassifier(use_label_encoder=False, eval_metric='logloss', scale_pos_weight=scale_pos_weight)\n",
    "    model.fit(X_train, y_train)\n",
    "    return model\n"
   ]
  },
  {
   "cell_type": "code",
   "execution_count": 13,
   "metadata": {},
   "outputs": [],
   "source": [
    "def evaluate_model(model, X_test, y_test):\n",
    "    y_pred = model.predict(X_test)\n",
    "    y_pred_proba = model.predict_proba(X_test)[:, 1]\n",
    "    report = classification_report(y_test, y_pred, zero_division=0)\n",
    "    roc_auc = roc_auc_score(y_test, y_pred_proba)\n",
    "    return report, roc_auc"
   ]
  },
  {
   "cell_type": "code",
   "execution_count": 14,
   "metadata": {},
   "outputs": [
    {
     "name": "stderr",
     "output_type": "stream",
     "text": [
      "C:\\Users\\usar\\AppData\\Local\\Temp\\ipykernel_14584\\1126809310.py:2: FutureWarning: A value is trying to be set on a copy of a DataFrame or Series through chained assignment using an inplace method.\n",
      "The behavior will change in pandas 3.0. This inplace method will never work because the intermediate object on which we are setting values always behaves as a copy.\n",
      "\n",
      "For example, when doing 'df[col].method(value, inplace=True)', try using 'df.method({col: value}, inplace=True)' or df[col] = df[col].method(value) instead, to perform the operation inplace on the original object.\n",
      "\n",
      "\n",
      "  df['transaction_amount'].fillna(df['transaction_amount'].median(), inplace=True)\n",
      "c:\\Users\\usar\\Documents\\my apps\\python\\fraud_transaction_identification\\.venv\\lib\\site-packages\\xgboost\\training.py:183: UserWarning: [20:30:22] WARNING: C:\\actions-runner\\_work\\xgboost\\xgboost\\src\\learner.cc:738: \n",
      "Parameters: { \"use_label_encoder\" } are not used.\n",
      "\n",
      "  bst.update(dtrain, iteration=i, fobj=obj)\n"
     ]
    },
    {
     "name": "stdout",
     "output_type": "stream",
     "text": [
      "Classification Report:\n",
      "               precision    recall  f1-score   support\n",
      "\n",
      "           0       1.00      1.00      1.00     34584\n",
      "           1       0.00      0.00      0.00         2\n",
      "\n",
      "    accuracy                           1.00     34586\n",
      "   macro avg       0.50      0.50      0.50     34586\n",
      "weighted avg       1.00      1.00      1.00     34586\n",
      "\n",
      "ROC-AUC Score: 0.49975422160536664\n"
     ]
    }
   ],
   "source": [
    "file_path = \"transactions_train.csv\" \n",
    "df = load_data(file_path)\n",
    "df = preprocess_data(df)\n",
    "categorical_cols = ['transaction_channel', 'payer_email_anonymous', 'payee_ip_anonymous', 'transaction_id_anonymous', 'payee_id_anonymous']\n",
    "df, _ = encode_categorical(df, categorical_cols)\n",
    "\n",
    "X = df.drop(columns=['is_fraud'])\n",
    "y = df['is_fraud']\n",
    "\n",
    "X_train, X_test, y_train, y_test = train_test_split(X, y, test_size=0.2, random_state=42, stratify=y)\n",
    "model = train_xgboost(X_train, y_train)\n",
    "report, roc_auc = evaluate_model(model, X_test, y_test)\n",
    "\n",
    "print(\"Classification Report:\\n\", report)\n",
    "print(\"ROC-AUC Score:\", roc_auc)"
   ]
  }
 ],
 "metadata": {
  "kernelspec": {
   "display_name": ".venv",
   "language": "python",
   "name": "python3"
  },
  "language_info": {
   "codemirror_mode": {
    "name": "ipython",
    "version": 3
   },
   "file_extension": ".py",
   "mimetype": "text/x-python",
   "name": "python",
   "nbconvert_exporter": "python",
   "pygments_lexer": "ipython3",
   "version": "3.10.10"
  }
 },
 "nbformat": 4,
 "nbformat_minor": 2
}
